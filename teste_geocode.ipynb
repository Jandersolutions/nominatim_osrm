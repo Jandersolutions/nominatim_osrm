{
 "cells": [
  {
   "cell_type": "markdown",
   "metadata": {},
   "source": [
    "# Geocoding"
   ]
  },
  {
   "cell_type": "code",
   "execution_count": 1,
   "metadata": {},
   "outputs": [],
   "source": [
    "import geopandas as gpds\n",
    "import pandas as pd\n",
    "import numpy as np"
   ]
  },
  {
   "cell_type": "code",
   "execution_count": 2,
   "metadata": {},
   "outputs": [
    {
     "data": {
      "text/html": [
       "<div>\n",
       "<style scoped>\n",
       "    .dataframe tbody tr th:only-of-type {\n",
       "        vertical-align: middle;\n",
       "    }\n",
       "\n",
       "    .dataframe tbody tr th {\n",
       "        vertical-align: top;\n",
       "    }\n",
       "\n",
       "    .dataframe thead th {\n",
       "        text-align: right;\n",
       "    }\n",
       "</style>\n",
       "<table border=\"1\" class=\"dataframe\">\n",
       "  <thead>\n",
       "    <tr style=\"text-align: right;\">\n",
       "      <th></th>\n",
       "      <th>geometry</th>\n",
       "      <th>address</th>\n",
       "    </tr>\n",
       "  </thead>\n",
       "  <tbody>\n",
       "    <tr>\n",
       "      <th>0</th>\n",
       "      <td>POINT (-47.88232 -15.79340)</td>\n",
       "      <td>Brasília, Região Integrada de Desenvolvimento ...</td>\n",
       "    </tr>\n",
       "  </tbody>\n",
       "</table>\n",
       "</div>"
      ],
      "text/plain": [
       "                      geometry  \\\n",
       "0  POINT (-47.88232 -15.79340)   \n",
       "\n",
       "                                             address  \n",
       "0  Brasília, Região Integrada de Desenvolvimento ...  "
      ]
     },
     "execution_count": 2,
     "metadata": {},
     "output_type": "execute_result"
    }
   ],
   "source": [
    "gpds.tools.geocode('Brasilia,DF',provider='nominatim',user_agent='teste_passdriver')"
   ]
  },
  {
   "cell_type": "code",
   "execution_count": 3,
   "metadata": {},
   "outputs": [
    {
     "data": {
      "text/html": [
       "<div>\n",
       "<style scoped>\n",
       "    .dataframe tbody tr th:only-of-type {\n",
       "        vertical-align: middle;\n",
       "    }\n",
       "\n",
       "    .dataframe tbody tr th {\n",
       "        vertical-align: top;\n",
       "    }\n",
       "\n",
       "    .dataframe thead th {\n",
       "        text-align: right;\n",
       "    }\n",
       "</style>\n",
       "<table border=\"1\" class=\"dataframe\">\n",
       "  <thead>\n",
       "    <tr style=\"text-align: right;\">\n",
       "      <th></th>\n",
       "      <th>ponto</th>\n",
       "      <th>endereco</th>\n",
       "    </tr>\n",
       "  </thead>\n",
       "  <tbody>\n",
       "    <tr>\n",
       "      <th>0</th>\n",
       "      <td>ponto01</td>\n",
       "      <td>Estrada Parque Ceilândia, SIA, Região Integrad...</td>\n",
       "    </tr>\n",
       "    <tr>\n",
       "      <th>1</th>\n",
       "      <td>ponto02</td>\n",
       "      <td>QSB 12, Taguatinga, Região Integrada de Desenv...</td>\n",
       "    </tr>\n",
       "    <tr>\n",
       "      <th>2</th>\n",
       "      <td>ponto03</td>\n",
       "      <td>Bloco A / B, W1 Sul, SQS 104, Asa Sul, Brasíli...</td>\n",
       "    </tr>\n",
       "    <tr>\n",
       "      <th>3</th>\n",
       "      <td>ponto04</td>\n",
       "      <td>Recanto das Emas, Região Integrada de Desenvol...</td>\n",
       "    </tr>\n",
       "  </tbody>\n",
       "</table>\n",
       "</div>"
      ],
      "text/plain": [
       "     ponto                                           endereco\n",
       "0  ponto01  Estrada Parque Ceilândia, SIA, Região Integrad...\n",
       "1  ponto02  QSB 12, Taguatinga, Região Integrada de Desenv...\n",
       "2  ponto03  Bloco A / B, W1 Sul, SQS 104, Asa Sul, Brasíli...\n",
       "3  ponto04  Recanto das Emas, Região Integrada de Desenvol..."
      ]
     },
     "execution_count": 3,
     "metadata": {},
     "output_type": "execute_result"
    }
   ],
   "source": [
    "end = pd.read_csv('endereco.csv',encoding='UTF-8')\n",
    "end"
   ]
  },
  {
   "cell_type": "code",
   "execution_count": 4,
   "metadata": {},
   "outputs": [
    {
     "data": {
      "text/html": [
       "<div>\n",
       "<style scoped>\n",
       "    .dataframe tbody tr th:only-of-type {\n",
       "        vertical-align: middle;\n",
       "    }\n",
       "\n",
       "    .dataframe tbody tr th {\n",
       "        vertical-align: top;\n",
       "    }\n",
       "\n",
       "    .dataframe thead th {\n",
       "        text-align: right;\n",
       "    }\n",
       "</style>\n",
       "<table border=\"1\" class=\"dataframe\">\n",
       "  <thead>\n",
       "    <tr style=\"text-align: right;\">\n",
       "      <th></th>\n",
       "      <th>geometry</th>\n",
       "      <th>address</th>\n",
       "    </tr>\n",
       "  </thead>\n",
       "  <tbody>\n",
       "    <tr>\n",
       "      <th>0</th>\n",
       "      <td>POINT (-47.98341 -15.78920)</td>\n",
       "      <td>EPCL, SIA, Região Integrada de Desenvolvimento...</td>\n",
       "    </tr>\n",
       "    <tr>\n",
       "      <th>1</th>\n",
       "      <td>POINT (-48.05318 -15.83996)</td>\n",
       "      <td>QSB 12, Taguatinga, Região Integrada de Desenv...</td>\n",
       "    </tr>\n",
       "    <tr>\n",
       "      <th>2</th>\n",
       "      <td>POINT (-47.89561 -15.80715)</td>\n",
       "      <td>Bloco A / B, W1 Sul, SQS 104, Asa Sul, Plano P...</td>\n",
       "    </tr>\n",
       "    <tr>\n",
       "      <th>3</th>\n",
       "      <td>POINT (-48.06078 -15.90255)</td>\n",
       "      <td>Recanto das Emas, Região Integrada de Desenvol...</td>\n",
       "    </tr>\n",
       "  </tbody>\n",
       "</table>\n",
       "</div>"
      ],
      "text/plain": [
       "                      geometry  \\\n",
       "0  POINT (-47.98341 -15.78920)   \n",
       "1  POINT (-48.05318 -15.83996)   \n",
       "2  POINT (-47.89561 -15.80715)   \n",
       "3  POINT (-48.06078 -15.90255)   \n",
       "\n",
       "                                             address  \n",
       "0  EPCL, SIA, Região Integrada de Desenvolvimento...  \n",
       "1  QSB 12, Taguatinga, Região Integrada de Desenv...  \n",
       "2  Bloco A / B, W1 Sul, SQS 104, Asa Sul, Plano P...  \n",
       "3  Recanto das Emas, Região Integrada de Desenvol...  "
      ]
     },
     "execution_count": 4,
     "metadata": {},
     "output_type": "execute_result"
    }
   ],
   "source": [
    "gpds.tools.geocode(end['endereco'],provider='nominatim',user_agent='teste_passdriver',country_bias='Brazil')"
   ]
  },
  {
   "cell_type": "code",
   "execution_count": 4,
   "metadata": {},
   "outputs": [],
   "source": [
    "end['Geom'] = gpds.tools.geocode(end['endereco'], provider = \"nominatim\", user_agent=\"Intro Geocode\", country_bias=\"Brazil\")['geometry']"
   ]
  },
  {
   "cell_type": "code",
   "execution_count": 5,
   "metadata": {},
   "outputs": [
    {
     "data": {
      "text/plain": [
       "0    POINT (-47.98341 -15.78920)\n",
       "1    POINT (-48.05318 -15.83996)\n",
       "2    POINT (-47.89561 -15.80715)\n",
       "3    POINT (-48.06078 -15.90255)\n",
       "Name: Geom, dtype: geometry"
      ]
     },
     "execution_count": 5,
     "metadata": {},
     "output_type": "execute_result"
    }
   ],
   "source": [
    "end.Geom"
   ]
  },
  {
   "cell_type": "markdown",
   "metadata": {},
   "source": [
    "# Geocode reverse address"
   ]
  },
  {
   "cell_type": "code",
   "execution_count": 6,
   "metadata": {},
   "outputs": [],
   "source": [
    "import shapely.geometry\n",
    "import geopy"
   ]
  },
  {
   "cell_type": "code",
   "execution_count": 7,
   "metadata": {},
   "outputs": [
    {
     "data": {
      "text/plain": [
       "-47.9834114"
      ]
     },
     "execution_count": 7,
     "metadata": {},
     "output_type": "execute_result"
    }
   ],
   "source": [
    "end[\"Geom\"][0].x"
   ]
  },
  {
   "cell_type": "code",
   "execution_count": 8,
   "metadata": {},
   "outputs": [
    {
     "data": {
      "text/plain": [
       "-15.7892025"
      ]
     },
     "execution_count": 8,
     "metadata": {},
     "output_type": "execute_result"
    }
   ],
   "source": [
    "end[\"Geom\"][0].y"
   ]
  },
  {
   "cell_type": "code",
   "execution_count": 9,
   "metadata": {},
   "outputs": [
    {
     "data": {
      "text/plain": [
       "Location(EPCL, SIA, Região Integrada de Desenvolvimento do Distrito Federal e Entorno, DF, Região Centro-Oeste, 71250005, Brasil, (-15.7892025, -47.9834114, 0.0))"
      ]
     },
     "execution_count": 9,
     "metadata": {},
     "output_type": "execute_result"
    }
   ],
   "source": [
    "geopy.geocoders.osm.Nominatim(user_agent=\"Intro Geocode\").reverse(str(end[\"Geom\"][0].y) + \", \" + str(end[\"Geom\"][0].x))"
   ]
  },
  {
   "cell_type": "code",
   "execution_count": 10,
   "metadata": {},
   "outputs": [],
   "source": [
    "end[\"y\"] = end[\"Geom\"].map(lambda p: p.y)\n",
    "end[\"x\"] = end[\"Geom\"].map(lambda p: p.x)\n",
    "end[\"yx\"] = end[\"Geom\"].map(lambda p: str(p.y) + \", \" + str(p.x))"
   ]
  },
  {
   "cell_type": "markdown",
   "metadata": {},
   "source": [
    "# passdriver server connect"
   ]
  },
  {
   "cell_type": "code",
   "execution_count": 11,
   "metadata": {},
   "outputs": [],
   "source": [
    "# geopy.geocoders.osm.passdriver = 'https://1c3ff67uttr.ngrok.io'\n",
    "# geopy.geocoders.SERVICE_TO_GEOCODER = {'passdriver':geopy.geocoders.osm.passdriver}"
   ]
  },
  {
   "cell_type": "code",
   "execution_count": 12,
   "metadata": {},
   "outputs": [
    {
     "data": {
      "text/html": [
       "<div>\n",
       "<style scoped>\n",
       "    .dataframe tbody tr th:only-of-type {\n",
       "        vertical-align: middle;\n",
       "    }\n",
       "\n",
       "    .dataframe tbody tr th {\n",
       "        vertical-align: top;\n",
       "    }\n",
       "\n",
       "    .dataframe thead th {\n",
       "        text-align: right;\n",
       "    }\n",
       "</style>\n",
       "<table border=\"1\" class=\"dataframe\">\n",
       "  <thead>\n",
       "    <tr style=\"text-align: right;\">\n",
       "      <th></th>\n",
       "      <th>ponto</th>\n",
       "      <th>endereco</th>\n",
       "      <th>Geom</th>\n",
       "      <th>y</th>\n",
       "      <th>x</th>\n",
       "      <th>yx</th>\n",
       "    </tr>\n",
       "  </thead>\n",
       "  <tbody>\n",
       "    <tr>\n",
       "      <th>0</th>\n",
       "      <td>ponto01</td>\n",
       "      <td>Estrada Parque Ceilândia, SIA, Região Integrad...</td>\n",
       "      <td>POINT (-47.98341 -15.78920)</td>\n",
       "      <td>-15.789203</td>\n",
       "      <td>-47.983411</td>\n",
       "      <td>-15.7892025, -47.9834114</td>\n",
       "    </tr>\n",
       "    <tr>\n",
       "      <th>1</th>\n",
       "      <td>ponto02</td>\n",
       "      <td>QSB 12, Taguatinga, Região Integrada de Desenv...</td>\n",
       "      <td>POINT (-48.05318 -15.83996)</td>\n",
       "      <td>-15.839957</td>\n",
       "      <td>-48.053179</td>\n",
       "      <td>-15.8399567, -48.0531795</td>\n",
       "    </tr>\n",
       "    <tr>\n",
       "      <th>2</th>\n",
       "      <td>ponto03</td>\n",
       "      <td>Bloco A / B, W1 Sul, SQS 104, Asa Sul, Brasíli...</td>\n",
       "      <td>POINT (-47.89561 -15.80715)</td>\n",
       "      <td>-15.807154</td>\n",
       "      <td>-47.895610</td>\n",
       "      <td>-15.8071537, -47.8956104207204</td>\n",
       "    </tr>\n",
       "    <tr>\n",
       "      <th>3</th>\n",
       "      <td>ponto04</td>\n",
       "      <td>Recanto das Emas, Região Integrada de Desenvol...</td>\n",
       "      <td>POINT (-48.06078 -15.90255)</td>\n",
       "      <td>-15.902548</td>\n",
       "      <td>-48.060778</td>\n",
       "      <td>-15.9025481, -48.0607778</td>\n",
       "    </tr>\n",
       "  </tbody>\n",
       "</table>\n",
       "</div>"
      ],
      "text/plain": [
       "     ponto                                           endereco  \\\n",
       "0  ponto01  Estrada Parque Ceilândia, SIA, Região Integrad...   \n",
       "1  ponto02  QSB 12, Taguatinga, Região Integrada de Desenv...   \n",
       "2  ponto03  Bloco A / B, W1 Sul, SQS 104, Asa Sul, Brasíli...   \n",
       "3  ponto04  Recanto das Emas, Região Integrada de Desenvol...   \n",
       "\n",
       "                          Geom          y          x  \\\n",
       "0  POINT (-47.98341 -15.78920) -15.789203 -47.983411   \n",
       "1  POINT (-48.05318 -15.83996) -15.839957 -48.053179   \n",
       "2  POINT (-47.89561 -15.80715) -15.807154 -47.895610   \n",
       "3  POINT (-48.06078 -15.90255) -15.902548 -48.060778   \n",
       "\n",
       "                               yx  \n",
       "0        -15.7892025, -47.9834114  \n",
       "1        -15.8399567, -48.0531795  \n",
       "2  -15.8071537, -47.8956104207204  \n",
       "3        -15.9025481, -48.0607778  "
      ]
     },
     "execution_count": 12,
     "metadata": {},
     "output_type": "execute_result"
    }
   ],
   "source": [
    "end.head()"
   ]
  },
  {
   "cell_type": "code",
   "execution_count": 14,
   "metadata": {},
   "outputs": [
    {
     "data": {
      "text/plain": [
       "Location(EPCL, SIA, Região Integrada de Desenvolvimento do Distrito Federal e Entorno, DF, Região Centro-Oeste, 71250005, Brasil, (-15.7892025, -47.9834114, 0.0))"
      ]
     },
     "execution_count": 14,
     "metadata": {},
     "output_type": "execute_result"
    }
   ],
   "source": [
    "geopy.geocoders.osm.Nominatim(user_agent=\"Intro Geocode\").reverse(end[0:1][\"yx\"])"
   ]
  },
  {
   "cell_type": "code",
   "execution_count": 15,
   "metadata": {},
   "outputs": [],
   "source": [
    "end['RevAddress'] = end.apply(lambda row: geopy.geocoders.osm.Nominatim(user_agent=\"Intro Geocode\").reverse(row['yx']),axis=1)"
   ]
  },
  {
   "cell_type": "code",
   "execution_count": 16,
   "metadata": {},
   "outputs": [
    {
     "data": {
      "text/html": [
       "<div>\n",
       "<style scoped>\n",
       "    .dataframe tbody tr th:only-of-type {\n",
       "        vertical-align: middle;\n",
       "    }\n",
       "\n",
       "    .dataframe tbody tr th {\n",
       "        vertical-align: top;\n",
       "    }\n",
       "\n",
       "    .dataframe thead th {\n",
       "        text-align: right;\n",
       "    }\n",
       "</style>\n",
       "<table border=\"1\" class=\"dataframe\">\n",
       "  <thead>\n",
       "    <tr style=\"text-align: right;\">\n",
       "      <th></th>\n",
       "      <th>ponto</th>\n",
       "      <th>endereco</th>\n",
       "      <th>Geom</th>\n",
       "      <th>y</th>\n",
       "      <th>x</th>\n",
       "      <th>yx</th>\n",
       "      <th>RevAddress</th>\n",
       "    </tr>\n",
       "  </thead>\n",
       "  <tbody>\n",
       "    <tr>\n",
       "      <th>0</th>\n",
       "      <td>ponto01</td>\n",
       "      <td>Estrada Parque Ceilândia, SIA, Região Integrad...</td>\n",
       "      <td>POINT (-47.98341 -15.78920)</td>\n",
       "      <td>-15.789203</td>\n",
       "      <td>-47.983411</td>\n",
       "      <td>-15.7892025, -47.9834114</td>\n",
       "      <td>(EPCL, SIA, Região Integrada de Desenvolviment...</td>\n",
       "    </tr>\n",
       "    <tr>\n",
       "      <th>1</th>\n",
       "      <td>ponto02</td>\n",
       "      <td>QSB 12, Taguatinga, Região Integrada de Desenv...</td>\n",
       "      <td>POINT (-48.05318 -15.83996)</td>\n",
       "      <td>-15.839957</td>\n",
       "      <td>-48.053179</td>\n",
       "      <td>-15.8399567, -48.0531795</td>\n",
       "      <td>(QSB 13, Taguatinga, Região Integrada de Desen...</td>\n",
       "    </tr>\n",
       "    <tr>\n",
       "      <th>2</th>\n",
       "      <td>ponto03</td>\n",
       "      <td>Bloco A / B, W1 Sul, SQS 104, Asa Sul, Brasíli...</td>\n",
       "      <td>POINT (-47.89561 -15.80715)</td>\n",
       "      <td>-15.807154</td>\n",
       "      <td>-47.895610</td>\n",
       "      <td>-15.8071537, -47.8956104207204</td>\n",
       "      <td>(Bloco A / B, W1 Sul, SQS 104, Asa Sul, Plano ...</td>\n",
       "    </tr>\n",
       "    <tr>\n",
       "      <th>3</th>\n",
       "      <td>ponto04</td>\n",
       "      <td>Recanto das Emas, Região Integrada de Desenvol...</td>\n",
       "      <td>POINT (-48.06078 -15.90255)</td>\n",
       "      <td>-15.902548</td>\n",
       "      <td>-48.060778</td>\n",
       "      <td>-15.9025481, -48.0607778</td>\n",
       "      <td>(Recanto das Emas, Região Integrada de Desenvo...</td>\n",
       "    </tr>\n",
       "  </tbody>\n",
       "</table>\n",
       "</div>"
      ],
      "text/plain": [
       "     ponto                                           endereco  \\\n",
       "0  ponto01  Estrada Parque Ceilândia, SIA, Região Integrad...   \n",
       "1  ponto02  QSB 12, Taguatinga, Região Integrada de Desenv...   \n",
       "2  ponto03  Bloco A / B, W1 Sul, SQS 104, Asa Sul, Brasíli...   \n",
       "3  ponto04  Recanto das Emas, Região Integrada de Desenvol...   \n",
       "\n",
       "                          Geom          y          x  \\\n",
       "0  POINT (-47.98341 -15.78920) -15.789203 -47.983411   \n",
       "1  POINT (-48.05318 -15.83996) -15.839957 -48.053179   \n",
       "2  POINT (-47.89561 -15.80715) -15.807154 -47.895610   \n",
       "3  POINT (-48.06078 -15.90255) -15.902548 -48.060778   \n",
       "\n",
       "                               yx  \\\n",
       "0        -15.7892025, -47.9834114   \n",
       "1        -15.8399567, -48.0531795   \n",
       "2  -15.8071537, -47.8956104207204   \n",
       "3        -15.9025481, -48.0607778   \n",
       "\n",
       "                                          RevAddress  \n",
       "0  (EPCL, SIA, Região Integrada de Desenvolviment...  \n",
       "1  (QSB 13, Taguatinga, Região Integrada de Desen...  \n",
       "2  (Bloco A / B, W1 Sul, SQS 104, Asa Sul, Plano ...  \n",
       "3  (Recanto das Emas, Região Integrada de Desenvo...  "
      ]
     },
     "execution_count": 16,
     "metadata": {},
     "output_type": "execute_result"
    }
   ],
   "source": [
    "end.head()"
   ]
  },
  {
   "cell_type": "code",
   "execution_count": 17,
   "metadata": {},
   "outputs": [
    {
     "data": {
      "text/plain": [
       "{'passdriver': 'https://1c3ff67uttr.ngrok.io'}"
      ]
     },
     "execution_count": 17,
     "metadata": {},
     "output_type": "execute_result"
    }
   ],
   "source": [
    "geopy.geocoders.SERVICE_TO_GEOCODER"
   ]
  },
  {
   "cell_type": "markdown",
   "metadata": {},
   "source": [
    "# OSRM"
   ]
  },
  {
   "cell_type": "code",
   "execution_count": 13,
   "metadata": {},
   "outputs": [],
   "source": [
    "import osrm_plus"
   ]
  },
  {
   "cell_type": "code",
   "execution_count": 14,
   "metadata": {},
   "outputs": [],
   "source": [
    "test_coordinates = [\n",
    "    \"-47.98341,-15.78920\",\n",
    "    \"-48.05318,-15.83996\",\n",
    "    \"-47.89561,-15.80715\",\n",
    "    \"-48.06078,-15.90255\"\n",
    "]"
   ]
  },
  {
   "cell_type": "code",
   "execution_count": 15,
   "metadata": {},
   "outputs": [],
   "source": [
    "route_info = osrm_plus.distances_and_durations(test_coordinates, include_speed=True)\n",
    "distances = np.round(route_info['distances'])\n",
    "durations = np.round(route_info['durations'])\n",
    "speeds = np.round(route_info['speeds'])"
   ]
  },
  {
   "cell_type": "code",
   "execution_count": 16,
   "metadata": {},
   "outputs": [
    {
     "name": "stdout",
     "output_type": "stream",
     "text": [
      "Distance matrix: \n",
      "\t[[    0. 12818. 13991. 22749.]\n",
      " [12818.     0. 24006. 13382.]\n",
      " [13991. 24006.     0. 34144.]\n",
      " [22749. 13382. 34144.     0.]]\n",
      "Duration matrix: \n",
      "\t[[   0.  888.  995. 1521.]\n",
      " [ 888.    0. 1690. 1181.]\n",
      " [ 995. 1690.    0. 1992.]\n",
      " [1521. 1181. 1992.    0.]]\n",
      "Speed matrix (m/s): \n",
      "\t[[ 0. 14. 14. 15.]\n",
      " [14.  0. 14. 11.]\n",
      " [14. 14.  0. 17.]\n",
      " [15. 11. 17.  0.]]\n",
      "Speed matrix (km/h): \n",
      "\t[[ 0.  50.4 50.4 54. ]\n",
      " [50.4  0.  50.4 39.6]\n",
      " [50.4 50.4  0.  61.2]\n",
      " [54.  39.6 61.2  0. ]]\n"
     ]
    }
   ],
   "source": [
    "print(\"Distance matrix: \\n\\t{}\".format(distances))\n",
    "print(\"Duration matrix: \\n\\t{}\".format(durations))\n",
    "print(\"Speed matrix (m/s): \\n\\t{}\".format(speeds))\n",
    "print(\"Speed matrix (km/h): \\n\\t{}\".format(speeds*((60*60)/1000)))"
   ]
  },
  {
   "cell_type": "code",
   "execution_count": 17,
   "metadata": {},
   "outputs": [
    {
     "name": "stdout",
     "output_type": "stream",
     "text": [
      "Distance matrix: \n",
      "\t[[    0. 22749.]\n",
      " [22749.     0.]]\n",
      "Duration matrix: \n",
      "\t[[   0. 1521.]\n",
      " [1521.    0.]]\n",
      "Speed matrix (m/s): \n",
      "\t[[ 0. 15.]\n",
      " [15.  0.]]\n",
      "Speed matrix (km/h): \n",
      "\t[[ 0. 54.]\n",
      " [54.  0.]]\n"
     ]
    }
   ],
   "source": [
    "test_coordinates = [\n",
    "    \"-47.98341,-15.78920\",\n",
    "    \"-48.06078,-15.90255\"\n",
    "]\n",
    "route_info = osrm_plus.distances_and_durations(test_coordinates, include_speed=True)\n",
    "distances = np.round(route_info['distances'])\n",
    "durations = np.round(route_info['durations'])\n",
    "speeds = np.round(route_info['speeds'])\n",
    "print(\"Distance matrix: \\n\\t{}\".format(distances))\n",
    "print(\"Duration matrix: \\n\\t{}\".format(durations))\n",
    "print(\"Speed matrix (m/s): \\n\\t{}\".format(speeds))\n",
    "print(\"Speed matrix (km/h): \\n\\t{}\".format(speeds*((60*60)/1000)))"
   ]
  },
  {
   "cell_type": "markdown",
   "metadata": {},
   "source": [
    "# MAPS WHIT FOLIUM"
   ]
  },
  {
   "cell_type": "code",
   "execution_count": 26,
   "metadata": {},
   "outputs": [],
   "source": [
    "import folium"
   ]
  },
  {
   "cell_type": "code",
   "execution_count": 27,
   "metadata": {},
   "outputs": [
    {
     "data": {
      "text/html": [
       "<div style=\"width:100%;\"><div style=\"position:relative;width:100%;height:0;padding-bottom:60%;\"><iframe src=\"data:text/html;charset=utf-8;base64,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\" style=\"position:absolute;width:100%;height:100%;left:0;top:0;border:none !important;\" allowfullscreen webkitallowfullscreen mozallowfullscreen></iframe></div></div>"
      ],
      "text/plain": [
       "<folium.folium.Map at 0x7f7dd2bd6128>"
      ]
     },
     "execution_count": 27,
     "metadata": {},
     "output_type": "execute_result"
    }
   ],
   "source": [
    "m = folium.Map(location=[-15.79340,-47.88232],zoom_start=11)\n",
    "m"
   ]
  },
  {
   "cell_type": "code",
   "execution_count": 23,
   "metadata": {},
   "outputs": [
    {
     "data": {
      "text/html": [
       "<div style=\"width:100%;\"><div style=\"position:relative;width:100%;height:0;padding-bottom:60%;\"><iframe src=\"data:text/html;charset=utf-8;base64,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\" style=\"position:absolute;width:100%;height:100%;left:0;top:0;border:none !important;\" allowfullscreen webkitallowfullscreen mozallowfullscreen></iframe></div></div>"
      ],
      "text/plain": [
       "<folium.folium.Map at 0x7f7dd2e7bcc0>"
      ]
     },
     "execution_count": 23,
     "metadata": {},
     "output_type": "execute_result"
    }
   ],
   "source": []
  },
  {
   "cell_type": "code",
   "execution_count": null,
   "metadata": {},
   "outputs": [],
   "source": []
  }
 ],
 "metadata": {
  "kernelspec": {
   "display_name": "Python 3",
   "language": "python",
   "name": "python3"
  },
  "language_info": {
   "codemirror_mode": {
    "name": "ipython",
    "version": 3
   },
   "file_extension": ".py",
   "mimetype": "text/x-python",
   "name": "python",
   "nbconvert_exporter": "python",
   "pygments_lexer": "ipython3",
   "version": "3.7.3"
  }
 },
 "nbformat": 4,
 "nbformat_minor": 2
}
